{
 "cells": [
  {
   "cell_type": "markdown",
   "id": "ecaec0fe-434c-4874-9281-becf2798dc73",
   "metadata": {},
   "source": [
    "# Allora Forge ML Workflow\n",
    "\n",
    "This notebook with help you get started submitting inferences to the Allora network and take part in the Forge competition.\n",
    "\n",
    "## In this notebook you will quickly be able to:\n",
    "\n",
    "  1. Load training and validation data.\n",
    "  2. Load a LightGBM model\n",
    "  3. Train the model\n",
    "  4. Evaluate the model on validation data (recent 6 months)\n",
    "  5. Package your predict function into a `.pkl` file\n",
    "  6. (TODO: Run your worker to deliver inference to the network)\n",
    "\n",
    "## What you will need\n",
    "\n",
    "  1. Allora Data API Key\n",
    "  2. (Allora Network Wallet Address for live predictions) - under construction\n",
    "  3. (Forge Competition Topic ID for live predictions) - under construction\n",
    "\n",
    "# Happy Coding\n",
    "\n",
    "Let's go."
   ]
  },
  {
   "cell_type": "markdown",
   "id": "a8590579",
   "metadata": {},
   "source": [
    "## Install all necessary packages"
   ]
  },
  {
   "cell_type": "code",
   "execution_count": 2,
   "id": "06249ff0",
   "metadata": {},
   "outputs": [
    {
     "name": "stdout",
     "output_type": "stream",
     "text": [
      "Collecting git+https://github.com/allora-network/allora-forge-ml-workflow.git\n",
      "  Cloning https://github.com/allora-network/allora-forge-ml-workflow.git to /private/var/folders/g6/j6nwrg491cs5z3lb6pvlm3gw0000gn/T/pip-req-build-huup1xab\n",
      "  Running command git clone --filter=blob:none --quiet https://github.com/allora-network/allora-forge-ml-workflow.git /private/var/folders/g6/j6nwrg491cs5z3lb6pvlm3gw0000gn/T/pip-req-build-huup1xab\n",
      "  Resolved https://github.com/allora-network/allora-forge-ml-workflow.git to commit 845a09e8706ae3176d0c81bff3889f7680ff476b\n",
      "  Installing build dependencies ... \u001b[?25ldone\n",
      "\u001b[?25h  Getting requirements to build wheel ... \u001b[?25ldone\n",
      "\u001b[?25h  Preparing metadata (pyproject.toml) ... \u001b[?25ldone\n",
      "\u001b[?25hRequirement already satisfied: pandas in /opt/homebrew/Caskroom/miniconda/base/envs/modelmaker/lib/python3.9/site-packages (from allora-ml-workflow==0.1.0) (2.3.1)\n",
      "Requirement already satisfied: numpy in /opt/homebrew/Caskroom/miniconda/base/envs/modelmaker/lib/python3.9/site-packages (from allora-ml-workflow==0.1.0) (2.0.2)\n",
      "Requirement already satisfied: lightgbm in /opt/homebrew/Caskroom/miniconda/base/envs/modelmaker/lib/python3.9/site-packages (from allora-ml-workflow==0.1.0) (4.6.0)\n",
      "Requirement already satisfied: requests in /opt/homebrew/Caskroom/miniconda/base/envs/modelmaker/lib/python3.9/site-packages (from allora-ml-workflow==0.1.0) (2.32.4)\n",
      "Requirement already satisfied: dill in /opt/homebrew/Caskroom/miniconda/base/envs/modelmaker/lib/python3.9/site-packages (from allora-ml-workflow==0.1.0) (0.4.0)\n",
      "Requirement already satisfied: scipy in /opt/homebrew/Caskroom/miniconda/base/envs/modelmaker/lib/python3.9/site-packages (from lightgbm->allora-ml-workflow==0.1.0) (1.13.1)\n",
      "Requirement already satisfied: python-dateutil>=2.8.2 in /opt/homebrew/Caskroom/miniconda/base/envs/modelmaker/lib/python3.9/site-packages (from pandas->allora-ml-workflow==0.1.0) (2.9.0.post0)\n",
      "Requirement already satisfied: pytz>=2020.1 in /opt/homebrew/Caskroom/miniconda/base/envs/modelmaker/lib/python3.9/site-packages (from pandas->allora-ml-workflow==0.1.0) (2025.2)\n",
      "Requirement already satisfied: tzdata>=2022.7 in /opt/homebrew/Caskroom/miniconda/base/envs/modelmaker/lib/python3.9/site-packages (from pandas->allora-ml-workflow==0.1.0) (2025.2)\n",
      "Requirement already satisfied: charset_normalizer<4,>=2 in /opt/homebrew/Caskroom/miniconda/base/envs/modelmaker/lib/python3.9/site-packages (from requests->allora-ml-workflow==0.1.0) (3.4.2)\n",
      "Requirement already satisfied: idna<4,>=2.5 in /opt/homebrew/Caskroom/miniconda/base/envs/modelmaker/lib/python3.9/site-packages (from requests->allora-ml-workflow==0.1.0) (3.10)\n",
      "Requirement already satisfied: urllib3<3,>=1.21.1 in /opt/homebrew/Caskroom/miniconda/base/envs/modelmaker/lib/python3.9/site-packages (from requests->allora-ml-workflow==0.1.0) (2.5.0)\n",
      "Requirement already satisfied: certifi>=2017.4.17 in /opt/homebrew/Caskroom/miniconda/base/envs/modelmaker/lib/python3.9/site-packages (from requests->allora-ml-workflow==0.1.0) (2025.8.3)\n",
      "Requirement already satisfied: six>=1.5 in /opt/homebrew/Caskroom/miniconda/base/envs/modelmaker/lib/python3.9/site-packages (from python-dateutil>=2.8.2->pandas->allora-ml-workflow==0.1.0) (1.16.0)\n",
      "Note: you may need to restart the kernel to use updated packages.\n",
      "Requirement already satisfied: lightgbm in /opt/homebrew/Caskroom/miniconda/base/envs/modelmaker/lib/python3.9/site-packages (4.6.0)\n",
      "Requirement already satisfied: scikit-learn in /opt/homebrew/Caskroom/miniconda/base/envs/modelmaker/lib/python3.9/site-packages (1.6.1)\n",
      "Requirement already satisfied: pandas in /opt/homebrew/Caskroom/miniconda/base/envs/modelmaker/lib/python3.9/site-packages (2.3.1)\n",
      "Requirement already satisfied: numpy in /opt/homebrew/Caskroom/miniconda/base/envs/modelmaker/lib/python3.9/site-packages (2.0.2)\n",
      "Requirement already satisfied: matplotlib in /opt/homebrew/Caskroom/miniconda/base/envs/modelmaker/lib/python3.9/site-packages (3.9.4)\n",
      "Requirement already satisfied: dill in /opt/homebrew/Caskroom/miniconda/base/envs/modelmaker/lib/python3.9/site-packages (0.4.0)\n",
      "Requirement already satisfied: scipy in /opt/homebrew/Caskroom/miniconda/base/envs/modelmaker/lib/python3.9/site-packages (from lightgbm) (1.13.1)\n",
      "Requirement already satisfied: joblib>=1.2.0 in /opt/homebrew/Caskroom/miniconda/base/envs/modelmaker/lib/python3.9/site-packages (from scikit-learn) (1.5.1)\n",
      "Requirement already satisfied: threadpoolctl>=3.1.0 in /opt/homebrew/Caskroom/miniconda/base/envs/modelmaker/lib/python3.9/site-packages (from scikit-learn) (3.6.0)\n",
      "Requirement already satisfied: python-dateutil>=2.8.2 in /opt/homebrew/Caskroom/miniconda/base/envs/modelmaker/lib/python3.9/site-packages (from pandas) (2.9.0.post0)\n",
      "Requirement already satisfied: pytz>=2020.1 in /opt/homebrew/Caskroom/miniconda/base/envs/modelmaker/lib/python3.9/site-packages (from pandas) (2025.2)\n",
      "Requirement already satisfied: tzdata>=2022.7 in /opt/homebrew/Caskroom/miniconda/base/envs/modelmaker/lib/python3.9/site-packages (from pandas) (2025.2)\n",
      "Requirement already satisfied: contourpy>=1.0.1 in /opt/homebrew/Caskroom/miniconda/base/envs/modelmaker/lib/python3.9/site-packages (from matplotlib) (1.3.0)\n",
      "Requirement already satisfied: cycler>=0.10 in /opt/homebrew/Caskroom/miniconda/base/envs/modelmaker/lib/python3.9/site-packages (from matplotlib) (0.12.1)\n",
      "Requirement already satisfied: fonttools>=4.22.0 in /opt/homebrew/Caskroom/miniconda/base/envs/modelmaker/lib/python3.9/site-packages (from matplotlib) (4.59.0)\n",
      "Requirement already satisfied: kiwisolver>=1.3.1 in /opt/homebrew/Caskroom/miniconda/base/envs/modelmaker/lib/python3.9/site-packages (from matplotlib) (1.4.7)\n",
      "Requirement already satisfied: packaging>=20.0 in /opt/homebrew/Caskroom/miniconda/base/envs/modelmaker/lib/python3.9/site-packages (from matplotlib) (24.1)\n",
      "Requirement already satisfied: pillow>=8 in /opt/homebrew/Caskroom/miniconda/base/envs/modelmaker/lib/python3.9/site-packages (from matplotlib) (11.3.0)\n",
      "Requirement already satisfied: pyparsing>=2.3.1 in /opt/homebrew/Caskroom/miniconda/base/envs/modelmaker/lib/python3.9/site-packages (from matplotlib) (3.2.3)\n",
      "Requirement already satisfied: importlib-resources>=3.2.0 in /opt/homebrew/Caskroom/miniconda/base/envs/modelmaker/lib/python3.9/site-packages (from matplotlib) (6.5.2)\n",
      "Requirement already satisfied: zipp>=3.1.0 in /opt/homebrew/Caskroom/miniconda/base/envs/modelmaker/lib/python3.9/site-packages (from importlib-resources>=3.2.0->matplotlib) (3.20.2)\n",
      "Requirement already satisfied: six>=1.5 in /opt/homebrew/Caskroom/miniconda/base/envs/modelmaker/lib/python3.9/site-packages (from python-dateutil>=2.8.2->pandas) (1.16.0)\n",
      "Note: you may need to restart the kernel to use updated packages.\n",
      "Requirement already satisfied: torch in /opt/homebrew/Caskroom/miniconda/base/envs/modelmaker/lib/python3.9/site-packages (2.8.0)\n",
      "Requirement already satisfied: torchvision in /opt/homebrew/Caskroom/miniconda/base/envs/modelmaker/lib/python3.9/site-packages (0.23.0)\n",
      "Requirement already satisfied: torchaudio in /opt/homebrew/Caskroom/miniconda/base/envs/modelmaker/lib/python3.9/site-packages (2.8.0)\n",
      "Requirement already satisfied: filelock in /opt/homebrew/Caskroom/miniconda/base/envs/modelmaker/lib/python3.9/site-packages (from torch) (3.18.0)\n",
      "Requirement already satisfied: typing-extensions>=4.10.0 in /opt/homebrew/Caskroom/miniconda/base/envs/modelmaker/lib/python3.9/site-packages (from torch) (4.12.2)\n",
      "Requirement already satisfied: sympy>=1.13.3 in /opt/homebrew/Caskroom/miniconda/base/envs/modelmaker/lib/python3.9/site-packages (from torch) (1.14.0)\n",
      "Requirement already satisfied: networkx in /opt/homebrew/Caskroom/miniconda/base/envs/modelmaker/lib/python3.9/site-packages (from torch) (3.2.1)\n",
      "Requirement already satisfied: jinja2 in /opt/homebrew/Caskroom/miniconda/base/envs/modelmaker/lib/python3.9/site-packages (from torch) (3.1.6)\n",
      "Requirement already satisfied: fsspec in /opt/homebrew/Caskroom/miniconda/base/envs/modelmaker/lib/python3.9/site-packages (from torch) (2025.7.0)\n",
      "Requirement already satisfied: numpy in /opt/homebrew/Caskroom/miniconda/base/envs/modelmaker/lib/python3.9/site-packages (from torchvision) (2.0.2)\n",
      "Requirement already satisfied: pillow!=8.3.*,>=5.3.0 in /opt/homebrew/Caskroom/miniconda/base/envs/modelmaker/lib/python3.9/site-packages (from torchvision) (11.3.0)\n",
      "Requirement already satisfied: mpmath<1.4,>=1.1.0 in /opt/homebrew/Caskroom/miniconda/base/envs/modelmaker/lib/python3.9/site-packages (from sympy>=1.13.3->torch) (1.3.0)\n",
      "Requirement already satisfied: MarkupSafe>=2.0 in /opt/homebrew/Caskroom/miniconda/base/envs/modelmaker/lib/python3.9/site-packages (from jinja2->torch) (3.0.2)\n",
      "Note: you may need to restart the kernel to use updated packages.\n",
      "Requirement already satisfied: xgboost in /opt/homebrew/Caskroom/miniconda/base/envs/modelmaker/lib/python3.9/site-packages (2.1.4)\n",
      "Requirement already satisfied: numpy in /opt/homebrew/Caskroom/miniconda/base/envs/modelmaker/lib/python3.9/site-packages (from xgboost) (2.0.2)\n",
      "Requirement already satisfied: scipy in /opt/homebrew/Caskroom/miniconda/base/envs/modelmaker/lib/python3.9/site-packages (from xgboost) (1.13.1)\n",
      "Note: you may need to restart the kernel to use updated packages.\n",
      "Requirement already satisfied: catboost in /opt/homebrew/Caskroom/miniconda/base/envs/modelmaker/lib/python3.9/site-packages (1.2.8)\n",
      "Requirement already satisfied: graphviz in /opt/homebrew/Caskroom/miniconda/base/envs/modelmaker/lib/python3.9/site-packages (from catboost) (0.21)\n",
      "Requirement already satisfied: matplotlib in /opt/homebrew/Caskroom/miniconda/base/envs/modelmaker/lib/python3.9/site-packages (from catboost) (3.9.4)\n",
      "Requirement already satisfied: numpy<3.0,>=1.16.0 in /opt/homebrew/Caskroom/miniconda/base/envs/modelmaker/lib/python3.9/site-packages (from catboost) (2.0.2)\n",
      "Requirement already satisfied: pandas>=0.24 in /opt/homebrew/Caskroom/miniconda/base/envs/modelmaker/lib/python3.9/site-packages (from catboost) (2.3.1)\n",
      "Requirement already satisfied: scipy in /opt/homebrew/Caskroom/miniconda/base/envs/modelmaker/lib/python3.9/site-packages (from catboost) (1.13.1)\n",
      "Requirement already satisfied: plotly in /opt/homebrew/Caskroom/miniconda/base/envs/modelmaker/lib/python3.9/site-packages (from catboost) (6.2.0)\n",
      "Requirement already satisfied: six in /opt/homebrew/Caskroom/miniconda/base/envs/modelmaker/lib/python3.9/site-packages (from catboost) (1.16.0)\n",
      "Requirement already satisfied: python-dateutil>=2.8.2 in /opt/homebrew/Caskroom/miniconda/base/envs/modelmaker/lib/python3.9/site-packages (from pandas>=0.24->catboost) (2.9.0.post0)\n",
      "Requirement already satisfied: pytz>=2020.1 in /opt/homebrew/Caskroom/miniconda/base/envs/modelmaker/lib/python3.9/site-packages (from pandas>=0.24->catboost) (2025.2)\n",
      "Requirement already satisfied: tzdata>=2022.7 in /opt/homebrew/Caskroom/miniconda/base/envs/modelmaker/lib/python3.9/site-packages (from pandas>=0.24->catboost) (2025.2)\n",
      "Requirement already satisfied: contourpy>=1.0.1 in /opt/homebrew/Caskroom/miniconda/base/envs/modelmaker/lib/python3.9/site-packages (from matplotlib->catboost) (1.3.0)\n",
      "Requirement already satisfied: cycler>=0.10 in /opt/homebrew/Caskroom/miniconda/base/envs/modelmaker/lib/python3.9/site-packages (from matplotlib->catboost) (0.12.1)\n",
      "Requirement already satisfied: fonttools>=4.22.0 in /opt/homebrew/Caskroom/miniconda/base/envs/modelmaker/lib/python3.9/site-packages (from matplotlib->catboost) (4.59.0)\n",
      "Requirement already satisfied: kiwisolver>=1.3.1 in /opt/homebrew/Caskroom/miniconda/base/envs/modelmaker/lib/python3.9/site-packages (from matplotlib->catboost) (1.4.7)\n",
      "Requirement already satisfied: packaging>=20.0 in /opt/homebrew/Caskroom/miniconda/base/envs/modelmaker/lib/python3.9/site-packages (from matplotlib->catboost) (24.1)\n",
      "Requirement already satisfied: pillow>=8 in /opt/homebrew/Caskroom/miniconda/base/envs/modelmaker/lib/python3.9/site-packages (from matplotlib->catboost) (11.3.0)\n",
      "Requirement already satisfied: pyparsing>=2.3.1 in /opt/homebrew/Caskroom/miniconda/base/envs/modelmaker/lib/python3.9/site-packages (from matplotlib->catboost) (3.2.3)\n",
      "Requirement already satisfied: importlib-resources>=3.2.0 in /opt/homebrew/Caskroom/miniconda/base/envs/modelmaker/lib/python3.9/site-packages (from matplotlib->catboost) (6.5.2)\n",
      "Requirement already satisfied: narwhals>=1.15.1 in /opt/homebrew/Caskroom/miniconda/base/envs/modelmaker/lib/python3.9/site-packages (from plotly->catboost) (2.0.1)\n",
      "Requirement already satisfied: zipp>=3.1.0 in /opt/homebrew/Caskroom/miniconda/base/envs/modelmaker/lib/python3.9/site-packages (from importlib-resources>=3.2.0->matplotlib->catboost) (3.20.2)\n",
      "Note: you may need to restart the kernel to use updated packages.\n"
     ]
    }
   ],
   "source": [
    "'''\n",
    "Install all necessary packages\n",
    "'''\n",
    "\n",
    "%pip install git+https://github.com/allora-network/allora-forge-ml-workflow.git\n",
    "%pip install lightgbm scikit-learn pandas numpy matplotlib dill \n",
    "%pip install torch torchvision torchaudio\n",
    "%pip install xgboost\n",
    "%pip install catboost"
   ]
  },
  {
   "cell_type": "markdown",
   "id": "d1ff6db6",
   "metadata": {},
   "source": [
    "## Imports\n",
    "\n",
    "The following libraries are required for this workflow:\n",
    "- `allora_ml_workflow` for interfacing with the Allora Forge ML Workflow.\n",
    "- `lightgbm` for model training.\n",
    "- `pandas` and `numpy` for data manipulation.\n",
    "- `dill` for serialization.\n",
    "- `matplotlib` for visualization.\n",
    "- `time` for timing operations.\n",
    "\n",
    "These will be imported in the next code cell."
   ]
  },
  {
   "cell_type": "code",
   "execution_count": 3,
   "id": "24c374ee-d3ca-4b9a-8a01-9719bf042361",
   "metadata": {},
   "outputs": [
    {
     "name": "stdout",
     "output_type": "stream",
     "text": [
      "AlloraMLWorkflow module location: /Users/elliottsaslow/projects/allora-notebook/allora-forge-ml-workflow/allora_ml_workflow/workflow.py\n",
      "Available methods: 23\n",
      "Methods: ['calculate_bollinger_bands', 'calculate_fractal_dimension', 'calculate_hurst_exponent', 'calculate_macd', 'calculate_permutation_entropy', 'calculate_recurrence_features', 'calculate_rsi', 'calculate_sample_entropy', 'calculate_stochastic', 'calculate_wavelet_features', 'compute_esoteric_features', 'compute_from_date', 'compute_target', 'compute_technical_indicators', 'create_5_min_bars', 'evaluate_test_data', 'extract_rolling_daily_features', 'fetch_bucket_csv', 'fetch_ohlcv_data', 'get_full_feature_target_dataframe', 'get_live_features', 'get_train_validation_test_data', 'list_ready_buckets']\n",
      "✅ Technical indicators method found!\n",
      "✅ Esoteric features method found!\n"
     ]
    }
   ],
   "source": [
    "# Import directly from local file instead of package\n",
    "import sys\n",
    "import os\n",
    "\n",
    "# Remove any existing allora_ml_workflow from sys.modules\n",
    "modules_to_remove = [mod for mod in sys.modules.keys() if mod.startswith('allora_ml_workflow')]\n",
    "for mod in modules_to_remove:\n",
    "    del sys.modules[mod]\n",
    "\n",
    "# Add local directory to path at the beginning\n",
    "local_path = '/Users/elliottsaslow/projects/allora-notebook/allora-forge-ml-workflow'\n",
    "if local_path in sys.path:\n",
    "    sys.path.remove(local_path)\n",
    "sys.path.insert(0, local_path)\n",
    "\n",
    "# Import from local version\n",
    "from allora_ml_workflow.workflow import AlloraMLWorkflow\n",
    "\n",
    "# Verify we're using the local version\n",
    "import inspect\n",
    "print(f\"AlloraMLWorkflow module location: {inspect.getfile(AlloraMLWorkflow)}\")\n",
    "\n",
    "# Check if our methods exist\n",
    "workflow_methods = [method for method in dir(AlloraMLWorkflow) if not method.startswith('_')]\n",
    "print(f\"Available methods: {len(workflow_methods)}\")\n",
    "print(f\"Methods: {workflow_methods}\")\n",
    "\n",
    "if 'compute_technical_indicators' in workflow_methods:\n",
    "    print(\"✅ Technical indicators method found!\")\n",
    "else:\n",
    "    print(\"❌ Technical indicators method NOT found!\")\n",
    "\n",
    "if 'compute_esoteric_features' in workflow_methods:\n",
    "    print(\"✅ Esoteric features method found!\")\n",
    "else:\n",
    "    print(\"❌ Esoteric features method NOT found!\")\n",
    "\n",
    "import lightgbm as lgb\n",
    "import pandas as pd\n",
    "import dill\n",
    "import time\n",
    "import matplotlib.pyplot as plt\n",
    "import numpy as np"
   ]
  },
  {
   "cell_type": "markdown",
   "id": "af6e677a",
   "metadata": {},
   "source": [
    "## API KEY\n",
    "This gives you access to OHLCV (open, high, low, close, volume) candle data through the workflow.\n",
    "\n",
    "To get your API key, go to [https://developer.allora.network/](https://developer.allora.network/),  \n",
    "create an account, and generate a new API key."
   ]
  },
  {
   "cell_type": "code",
   "execution_count": 4,
   "id": "09b421eb-019f-4307-b574-68cf64d7c532",
   "metadata": {},
   "outputs": [],
   "source": [
    "api_key = \"UP-26ca6c6f4129490ca3cdc09a\" #need to get an API key from the Allora Forge"
   ]
  },
  {
   "cell_type": "markdown",
   "id": "5fc8eb90",
   "metadata": {},
   "source": [
    "## Initializing the Workflow\n",
    "### Defining Assets, Input Feature Window, Target\n",
    "\n",
    "Before training a model, we need to specify how much historical data to use as input features, and how far into the future we want to predict (the target). In this section, we define the parameters that control the *shape* and *amount* of our input features, which are simply normalized historical OHLCV candles.\n",
    "\n",
    "- **tickers**: The set of tickers for data.\n",
    "- **hours_needed**: This sets the total length (in hours) of the lookback window, i.e., how much historical context the model will see for each prediction.\n",
    "- **number_of_input_candles**: This determines how many candles (or chunks) the lookback window is divided into. Each candle summarizes a portion of the lookback window, and together they form the input features.\n",
    "- **target_length**: This specifies how many hours into the future we want to predict. For the Allora Forge competition, this should match the target horizon required by the challenge.\n",
    "\n",
    "For example:\n",
    "\n",
    "- Setting `hours_needed = 72` and `number_of_input_candles = 3` gives **3 daily candles** as input (each candle covers 24 hours).\n",
    "- Setting `hours_needed = 24` and `number_of_input_candles = 24` gives **24 hourly candles** as input (each candle covers 1 hour).\n",
    "\n",
    "We'll visualize the resulting features a few cells below, so you can see exactly what the model will receive as input."
   ]
  },
  {
   "cell_type": "code",
   "execution_count": 5,
   "id": "d84a3fab-4dc4-4173-b5e1-6f5e863fd226",
   "metadata": {},
   "outputs": [],
   "source": [
    "tickers = [\"btcusd\", \"ethusd\", \"solusd\"]\n",
    "hours_needed = 1*24             # Number of historical hours for feature lookback window\n",
    "number_of_input_candles = 24    # Number of candles for input features\n",
    "target_length = 1*24            # Number of hours into the future for target\n",
    "\n",
    "# Instantiate the workflow\n",
    "workflow = AlloraMLWorkflow(\n",
    "    data_api_key=api_key,\n",
    "    tickers=tickers,\n",
    "    hours_needed=hours_needed,\n",
    "    number_of_input_candles=number_of_input_candles,\n",
    "    target_length=target_length\n",
    ")"
   ]
  },
  {
   "cell_type": "markdown",
   "id": "50e68de6",
   "metadata": {},
   "source": [
    "## Getting Data\n",
    "### Training, Validation, and Test Data for Supervised Learning\n",
    "\n",
    "The `get_train_validation_test_data` function splits your historical data into three consecutive time periods: **training**, **validation**, and **test**. This is a standard approach in supervised machine learning to ensure that your model is evaluated on data it has never seen during training.\n",
    "\n",
    "### Arguments:\n",
    "- **`from_month`**: The starting month (YYYY-MM) for the entire dataset. The earliest available is `\"2020-01\"`.\n",
    "- **`validation_months`**: Number of months to reserve for the validation set (used for tuning hyperparameters and early stopping).\n",
    "- **`test_months`**: Number of months to reserve for the test set (used for final evaluation).\n",
    "\n",
    "### Data Splits:\n",
    "The data is split chronologically:\n",
    "1. **Training Set**: Includes all data from `from_month` up to the start of the validation period.\n",
    "2. **Validation Set**: Immediately follows the training set, with an embargo (gap) equal to the prediction target length (e.g., 24 hours) to prevent data leakage.\n",
    "3. **Test Set**: Follows the validation set, again separated by an embargo of the same length.\n",
    "\n",
    "### How Long Does it Take?\n",
    "Loading data should only take a few minutes, and versions of data are cached for quicker load times in the future. \n",
    "- Force a re-download of fresh data with `force_redownload=True`.\n",
    "\n",
    "### Visual Schematic:\n",
    "For a 24-hour target:\n",
    "\n",
    "| **Training Set** | → **24 hr** → | **Validation Set** | → **24 hr** → | **Test Set** |\n"
   ]
  },
  {
   "cell_type": "code",
   "execution_count": 6,
   "id": "7babacab-f6cf-4559-957e-279ae0ae4305",
   "metadata": {},
   "outputs": [
    {
     "name": "stdout",
     "output_type": "stream",
     "text": [
      "Loading data from data_btcusd_ethusd_solusd_2023-01_val3_test3.pkl\n",
      "Training set: (660943, 239) (660943,)\n",
      "Validation set: (76404, 239) (76404,)\n",
      "Test set: (78618, 239) (78618,)\n"
     ]
    }
   ],
   "source": [
    "# Get training, validation, and test data\n",
    "X_train, y_train, X_val, y_val, X_test, y_test = workflow.get_train_validation_test_data(\n",
    "    from_month=\"2023-01\",\n",
    "    validation_months=3,\n",
    "    test_months=3,\n",
    "    force_redownload=False  # Set to True to force re-download of fresh data\n",
    ")\n",
    "\n",
    "# Example: Check the shapes of the datasets\n",
    "print(\"Training set:\", X_train.shape, y_train.shape)\n",
    "print(\"Validation set:\", X_val.shape, y_val.shape)\n",
    "print(\"Test set:\", X_test.shape, y_test.shape)"
   ]
  },
  {
   "cell_type": "code",
   "execution_count": 7,
   "id": "44c8107e",
   "metadata": {},
   "outputs": [
    {
     "name": "stdout",
     "output_type": "stream",
     "text": [
      "\n",
      "Features in X_train:\n",
      "['open', 'high', 'low', 'close', 'volume', 'trades_done', 'returns', 'log_returns', 'sma_5', 'ema_5', 'price_to_sma_5', 'price_to_ema_5', 'sma_10', 'ema_10', 'price_to_sma_10', 'price_to_ema_10', 'sma_20', 'ema_20', 'price_to_sma_20', 'price_to_ema_20', 'sma_50', 'ema_50', 'price_to_sma_50', 'price_to_ema_50', 'price_change_1', 'momentum_1', 'price_change_3', 'momentum_3', 'price_change_5', 'momentum_5', 'price_change_10', 'momentum_10', 'rsi_14', 'rsi_7', 'bb_upper', 'bb_lower', 'bb_position', 'bb_width', 'macd', 'macd_signal', 'macd_histogram', 'stoch_k', 'stoch_d', 'volatility_5', 'log_volatility_5', 'volatility_10', 'log_volatility_10', 'volatility_20', 'log_volatility_20', 'tr', 'atr_14', 'atr_7', 'hl_ratio', 'co_ratio', 'price_position', 'volume_sma_5', 'volume_ratio_5', 'volume_sma_10', 'volume_ratio_10', 'volume_sma_20', 'volume_ratio_20', 'obv', 'obv_sma_10', 'obv_ratio', 'vpt', 'vpt_sma_10', 'price_volume_corr_10', 'price_volume_corr_20', 'higher_high_5', 'lower_low_5', 'higher_high_10', 'lower_low_10', 'higher_high_20', 'lower_low_20', 'hour', 'day_of_week', 'is_weekend', 'hour_sin', 'hour_cos', 'dow_sin', 'dow_cos', 'market_open_distance', 'hurst_exponent', 'permutation_entropy', 'fractal_dimension', 'sample_entropy', 'recurrence_rate', 'determinism', 'laminarity', 'entropy_rqa', 'wavelet_energy_level_0', 'wavelet_energy_level_1', 'wavelet_energy_level_2', 'wavelet_energy_level_3', 'feature_open_0', 'feature_high_0', 'feature_low_0', 'feature_close_0', 'feature_volume_0', 'feature_trades_done_0', 'feature_open_1', 'feature_high_1', 'feature_low_1', 'feature_close_1', 'feature_volume_1', 'feature_trades_done_1', 'feature_open_2', 'feature_high_2', 'feature_low_2', 'feature_close_2', 'feature_volume_2', 'feature_trades_done_2', 'feature_open_3', 'feature_high_3', 'feature_low_3', 'feature_close_3', 'feature_volume_3', 'feature_trades_done_3', 'feature_open_4', 'feature_high_4', 'feature_low_4', 'feature_close_4', 'feature_volume_4', 'feature_trades_done_4', 'feature_open_5', 'feature_high_5', 'feature_low_5', 'feature_close_5', 'feature_volume_5', 'feature_trades_done_5', 'feature_open_6', 'feature_high_6', 'feature_low_6', 'feature_close_6', 'feature_volume_6', 'feature_trades_done_6', 'feature_open_7', 'feature_high_7', 'feature_low_7', 'feature_close_7', 'feature_volume_7', 'feature_trades_done_7', 'feature_open_8', 'feature_high_8', 'feature_low_8', 'feature_close_8', 'feature_volume_8', 'feature_trades_done_8', 'feature_open_9', 'feature_high_9', 'feature_low_9', 'feature_close_9', 'feature_volume_9', 'feature_trades_done_9', 'feature_open_10', 'feature_high_10', 'feature_low_10', 'feature_close_10', 'feature_volume_10', 'feature_trades_done_10', 'feature_open_11', 'feature_high_11', 'feature_low_11', 'feature_close_11', 'feature_volume_11', 'feature_trades_done_11', 'feature_open_12', 'feature_high_12', 'feature_low_12', 'feature_close_12', 'feature_volume_12', 'feature_trades_done_12', 'feature_open_13', 'feature_high_13', 'feature_low_13', 'feature_close_13', 'feature_volume_13', 'feature_trades_done_13', 'feature_open_14', 'feature_high_14', 'feature_low_14', 'feature_close_14', 'feature_volume_14', 'feature_trades_done_14', 'feature_open_15', 'feature_high_15', 'feature_low_15', 'feature_close_15', 'feature_volume_15', 'feature_trades_done_15', 'feature_open_16', 'feature_high_16', 'feature_low_16', 'feature_close_16', 'feature_volume_16', 'feature_trades_done_16', 'feature_open_17', 'feature_high_17', 'feature_low_17', 'feature_close_17', 'feature_volume_17', 'feature_trades_done_17', 'feature_open_18', 'feature_high_18', 'feature_low_18', 'feature_close_18', 'feature_volume_18', 'feature_trades_done_18', 'feature_open_19', 'feature_high_19', 'feature_low_19', 'feature_close_19', 'feature_volume_19', 'feature_trades_done_19', 'feature_open_20', 'feature_high_20', 'feature_low_20', 'feature_close_20', 'feature_volume_20', 'feature_trades_done_20', 'feature_open_21', 'feature_high_21', 'feature_low_21', 'feature_close_21', 'feature_volume_21', 'feature_trades_done_21', 'feature_open_22', 'feature_high_22', 'feature_low_22', 'feature_close_22', 'feature_volume_22', 'feature_trades_done_22', 'feature_open_23', 'feature_high_23', 'feature_low_23', 'feature_close_23', 'feature_volume_23', 'feature_trades_done_23', 'ticker']\n",
      "\n",
      "Detailed feature info:\n",
      "<class 'pandas.core.frame.DataFrame'>\n",
      "MultiIndex: 660943 entries, (Timestamp('2023-01-02 00:00:00+0000', tz='UTC'), 'btcusd') to (Timestamp('2025-02-05 02:55:00+0000', tz='UTC'), 'solusd')\n",
      "Columns: 239 entries, open to ticker\n",
      "dtypes: float64(227), int32(3), int64(8), object(1)\n",
      "memory usage: 1.2+ GB\n",
      "None\n",
      "\n",
      "First 5 rows of training data:\n",
      "                                          open          high           low  \\\n",
      "index                     ticker                                             \n",
      "2023-01-02 00:00:00+00:00 btcusd  16610.942707  16620.090368  16610.551153   \n",
      "                          ethusd   1199.918283   1200.383562   1199.679158   \n",
      "                          solusd      9.983954      9.989862      9.960434   \n",
      "2023-01-02 00:05:00+00:00 btcusd  16615.970067  16625.219864  16610.693100   \n",
      "                          ethusd   1199.962555   1200.662612   1199.761812   \n",
      "\n",
      "                                         close       volume  trades_done  \\\n",
      "index                     ticker                                           \n",
      "2023-01-02 00:00:00+00:00 btcusd  16615.610269   439.497302        12478   \n",
      "                          ethusd   1199.897486   942.853637         2119   \n",
      "                          solusd      9.960446  8237.286190          536   \n",
      "2023-01-02 00:05:00+00:00 btcusd  16613.375960   563.669633        12861   \n",
      "                          ethusd   1199.944482  1305.834600         2245   \n",
      "\n",
      "                                   returns  log_returns         sma_5  \\\n",
      "index                     ticker                                        \n",
      "2023-01-02 00:00:00+00:00 btcusd  0.000312     0.000312  16606.927709   \n",
      "                          ethusd -0.000009    -0.000009   1199.884437   \n",
      "                          solusd -0.002584    -0.002587      9.968530   \n",
      "2023-01-02 00:05:00+00:00 btcusd -0.000134    -0.000134  16608.819796   \n",
      "                          ethusd  0.000039     0.000039   1199.822586   \n",
      "\n",
      "                                         ema_5  ...  feature_close_22  \\\n",
      "index                     ticker                ...                     \n",
      "2023-01-02 00:00:00+00:00 btcusd  16609.392568  ...          0.999207   \n",
      "                          ethusd   1199.931243  ...          1.000542   \n",
      "                          solusd      9.969802  ...          0.998929   \n",
      "2023-01-02 00:05:00+00:00 btcusd  16610.720365  ...          0.998898   \n",
      "                          ethusd   1199.935656  ...          1.000013   \n",
      "\n",
      "                                  feature_volume_22  feature_trades_done_22  \\\n",
      "index                     ticker                                              \n",
      "2023-01-02 00:00:00+00:00 btcusd           0.952257                113495.0   \n",
      "                          ethusd           0.437600                 17617.0   \n",
      "                          solusd           0.549046                  4826.0   \n",
      "2023-01-02 00:05:00+00:00 btcusd           0.873732                110660.0   \n",
      "                          ethusd           0.425105                 17325.0   \n",
      "\n",
      "                                  feature_open_23  feature_high_23  \\\n",
      "index                     ticker                                     \n",
      "2023-01-02 00:00:00+00:00 btcusd         0.999206         1.000569   \n",
      "                          ethusd         1.000593         1.001971   \n",
      "                          solusd         0.998902         1.007047   \n",
      "2023-01-02 00:05:00+00:00 btcusd         0.998892         1.000270   \n",
      "                          ethusd         1.000108         1.001981   \n",
      "\n",
      "                                  feature_low_23  feature_close_23  \\\n",
      "index                     ticker                                     \n",
      "2023-01-02 00:00:00+00:00 btcusd        0.999110               1.0   \n",
      "                          ethusd        0.999125               1.0   \n",
      "                          solusd        0.995507               1.0   \n",
      "2023-01-02 00:05:00+00:00 btcusd        0.998810               1.0   \n",
      "                          ethusd        0.999134               1.0   \n",
      "\n",
      "                                  feature_volume_23  feature_trades_done_23  \\\n",
      "index                     ticker                                              \n",
      "2023-01-02 00:00:00+00:00 btcusd                1.0                115150.0   \n",
      "                          ethusd                1.0                 22548.0   \n",
      "                          solusd                1.0                  7099.0   \n",
      "2023-01-02 00:05:00+00:00 btcusd                1.0                120847.0   \n",
      "                          ethusd                1.0                 23451.0   \n",
      "\n",
      "                                  ticker  \n",
      "index                     ticker          \n",
      "2023-01-02 00:00:00+00:00 btcusd  btcusd  \n",
      "                          ethusd  ethusd  \n",
      "                          solusd  solusd  \n",
      "2023-01-02 00:05:00+00:00 btcusd  btcusd  \n",
      "                          ethusd  ethusd  \n",
      "\n",
      "[5 rows x 239 columns]\n"
     ]
    }
   ],
   "source": [
    "# Show the features (column names) in the dataframes\n",
    "print(\"\\nFeatures in X_train:\")\n",
    "print(X_train.columns.tolist())\n",
    "\n",
    "# Optionally, show more detailed info about the features\n",
    "print(\"\\nDetailed feature info:\")\n",
    "print(X_train.info())\n",
    "\n",
    "# Show first few rows to see actual data\n",
    "print(\"\\nFirst 5 rows of training data:\")\n",
    "print(X_train.head())"
   ]
  },
  {
   "cell_type": "markdown",
   "id": "49b221f8",
   "metadata": {},
   "source": [
    "## Visualizing Data Time Spans\n",
    "\n",
    "The next cell visualizes the time spans covered by the training, validation, and test datasets. This helps to ensure that the data splits are correctly separated in time and that there is no data leakage between them."
   ]
  },
  {
   "cell_type": "code",
   "execution_count": 8,
   "id": "2a656fd3",
   "metadata": {},
   "outputs": [
    {
     "name": "stdout",
     "output_type": "stream",
     "text": [
      "Training set: 2023-01-02 00:00:00+00:00 to 2025-02-05 02:55:00+00:00\n",
      "Validation set: 2025-02-06 03:00:00+00:00 to 2025-05-06 02:55:00+00:00\n",
      "Test set: 2025-05-07 03:00:00+00:00 to 2025-08-06 02:45:00+00:00\n"
     ]
    },
    {
     "data": {
      "image/png": "[encoded data removed]",
      "text/plain": [
       "<Figure size 1000x200 with 1 Axes>"
      ]
     },
     "metadata": {},
     "output_type": "display_data"
    }
   ],
   "source": [
    "# Print start and end dates for each split\n",
    "def print_split_dates(X, name):\n",
    "    if isinstance(X.index, pd.MultiIndex):\n",
    "        dates = X.index.get_level_values(0)\n",
    "    else:\n",
    "        dates = X.index\n",
    "    print(f\"{name} set: {dates.min()} to {dates.max()}\")\n",
    "\n",
    "print_split_dates(X_train, \"Training\")\n",
    "print_split_dates(X_val, \"Validation\")\n",
    "print_split_dates(X_test, \"Test\")\n",
    "\n",
    "# Visualize the splits on a timeline\n",
    "import matplotlib.dates as mdates\n",
    "\n",
    "fig, ax = plt.subplots(figsize=(10, 2))\n",
    "\n",
    "def plot_span(X, color, label):\n",
    "    if isinstance(X.index, pd.MultiIndex):\n",
    "        dates = X.index.get_level_values(0)\n",
    "    else:\n",
    "        dates = X.index\n",
    "    ax.axvspan(dates.min(), dates.max(), color=color, alpha=0.4, label=label)\n",
    "\n",
    "plot_span(X_train, 'tab:blue', 'Training')\n",
    "plot_span(X_val, 'tab:orange', 'Validation')\n",
    "plot_span(X_test, 'tab:green', 'Test')\n",
    "\n",
    "ax.legend(loc='upper left')\n",
    "ax.set_title(\"Train/Validation/Test Splits Timeline\")\n",
    "ax.set_xlabel(\"Date\")\n",
    "ax.xaxis.set_major_locator(mdates.AutoDateLocator())\n",
    "ax.xaxis.set_major_formatter(mdates.ConciseDateFormatter(ax.xaxis.get_major_locator()))\n",
    "plt.tight_layout()\n",
    "plt.show()"
   ]
  },
  {
   "cell_type": "markdown",
   "id": "ccd389fb",
   "metadata": {},
   "source": [
    "## Visualizing Features and Historical Price Process\n",
    "\n",
    "In the next cell, we select a single row of data and visualize the features associated with it. These features represent the normalized historical OHLCV (open, high, low, close, volume) candles leading up to the selected time index. \n",
    "\n",
    "To provide additional context, we overlay the historical price process during the same time period. This allows us to visually compare the input features with the actual price movements of the asset, offering insights into the relationship between the features and the price process.\n"
   ]
  },
  {
   "cell_type": "code",
   "execution_count": 9,
   "id": "3fe9faa0-7af6-41fc-8553-bb51caccf03d",
   "metadata": {},
   "outputs": [
    {
     "data": {
      "image/png": "[encoded data removed]",
      "text/plain": [
       "<Figure size 1000x600 with 3 Axes>"
      ]
     },
     "metadata": {},
     "output_type": "display_data"
    }
   ],
   "source": [
    "eth_data = X_train.loc[(slice(None), 'ethusd'), :]\n",
    "data_idx = -10000  # which data point to visualize\n",
    "\n",
    "fig, ax1 = plt.subplots(figsize=(10, 6))\n",
    "\n",
    "# Plot features based on data_idx\n",
    "ax1.plot([eth_data.iloc[data_idx][f\"feature_open_{i}\"] for i in range(number_of_input_candles)], 'o', label=\"open\")\n",
    "ax1.plot([eth_data.iloc[data_idx][f\"feature_high_{i}\"] for i in range(number_of_input_candles)], 'o', label=\"high\")\n",
    "ax1.plot([eth_data.iloc[data_idx][f\"feature_low_{i}\"] for i in range(number_of_input_candles)], 'o', label=\"low\")\n",
    "ax1.plot([eth_data.iloc[data_idx][f\"feature_close_{i}\"] for i in range(number_of_input_candles)], 'o', label=\"close\")\n",
    "ax1.set_xlabel(\"Candle Index\")\n",
    "ax1.set_ylabel(\"Normalized Price Features\")\n",
    "ax1.legend(loc=\"upper left\")\n",
    "\n",
    "# Plot past price process based on data_idx\n",
    "plt.twiny()\n",
    "plt.plot(\n",
    "    (eth_data.iloc[data_idx - (hours_needed * 12):data_idx]['close'].values) / eth_data.iloc[data_idx]['close'],\n",
    "    label=\"5 min close (past)\"\n",
    ")\n",
    "plt.legend(loc='center left')\n",
    "\n",
    "# Plot volume as a bar chart with independent y-axis\n",
    "ax2 = ax1.twinx()\n",
    "ax2.bar(range(number_of_input_candles), \n",
    "    [eth_data.iloc[data_idx][f\"feature_volume_{i}\"] for i in range(number_of_input_candles)], \n",
    "    alpha=0.3, color='gray', label=\"volume\")\n",
    "ax2.set_ylabel(\"Normalized Volume\")\n",
    "ax2.legend(loc=\"upper right\")\n",
    "\n",
    "\n",
    "plt.title(\"Features and Volume\")\n",
    "plt.show()"
   ]
  },
  {
   "cell_type": "markdown",
   "id": "e0ba097c",
   "metadata": {},
   "source": [
    "## \"Hello World!\" ML Model\n",
    "\n",
    "- This notebook demonstrates a simple **LightGBM model** that predicts the future price of an asset based on its past price process, as represented by the features.\n",
    "- The **validation set** is used to:\n",
    "    - Tune the model.\n",
    "    - Perform **early stopping**, which helps prevent overfitting.\n",
    "- The **test set** is used to evaluate the model's performance.\n",
    "\n",
    "### Workflow Summary:\n",
    "1. The model is trained on the **training set**.\n",
    "2. Early stopping is applied using the **validation set** to determine the best iteration.\n",
    "3. The model is retrained on the combined **training and validation data** using the best iteration found during training.\n",
    "4. Finally, the model is evaluated on the **test set**.\n",
    "\n",
    "---\n",
    "\n",
    "### Future Directions:\n",
    "- This is just one example of a modeling workflow. \n",
    "- This is where a lot of **modeling magic** can happen:\n",
    "    - Experiment with swapping in new techniques and models.\n",
    "    - Try different feature engineering strategies.\n",
    "    - Explore alternative evaluation metrics.\n",
    "- Stay tuned! More notebooks will be available in the future with **different ideas and approaches** to inspire your modeling journey."
   ]
  },
  {
   "cell_type": "code",
   "execution_count": null,
   "id": "973a8646-10e1-49ef-ba2c-19035d83eca1",
   "metadata": {},
   "outputs": [
    {
     "name": "stdout",
     "output_type": "stream",
     "text": [
      "🧹 Preprocessing...\n",
      "🔁 Starting training...\n",
      "Epoch 001 | Loss: nan | Val Corr: nan   \n",
      "Epoch 002 | Loss: nan | Val Corr: nan   \n",
      "Epoch 003 | Loss: nan | Val Corr: nan   \n",
      "Epoch 004 | Loss: nan | Val Corr: nan   \n",
      "Epoch 005 | Loss: nan | Val Corr: nan   \n"
     ]
    }
   ],
   "source": [
    "import sys\n",
    "sys.path.append(\"..\")  # Only needed once\n",
    "\n",
    "from train import run_training\n",
    "\n",
    "# Call training function and get predictions\n",
    "test_preds = run_training(X_train, y_train, X_val, y_val, X_test)\n"
   ]
  },
  {
   "cell_type": "markdown",
   "id": "e53d1549",
   "metadata": {},
   "source": [
    "## The Workflow has a built-in method to evaluate the test data predictions."
   ]
  },
  {
   "cell_type": "code",
   "execution_count": null,
   "id": "189af7a2-678a-4c41-91b7-e11cc305382d",
   "metadata": {},
   "outputs": [
    {
     "ename": "NameError",
     "evalue": "name 'test_preds' is not defined",
     "output_type": "error",
     "traceback": [
      "\u001b[0;31m---------------------------------------------------------------------------\u001b[0m",
      "\u001b[0;31mNameError\u001b[0m                                 Traceback (most recent call last)",
      "Cell \u001b[0;32mIn[10], line 2\u001b[0m\n\u001b[1;32m      1\u001b[0m \u001b[38;5;66;03m#show test metrics\u001b[39;00m\n\u001b[0;32m----> 2\u001b[0m metrics \u001b[38;5;241m=\u001b[39m workflow\u001b[38;5;241m.\u001b[39mevaluate_test_data(\u001b[43mtest_preds\u001b[49m)\n\u001b[1;32m      3\u001b[0m \u001b[38;5;28mprint\u001b[39m(metrics)\n",
      "\u001b[0;31mNameError\u001b[0m: name 'test_preds' is not defined"
     ]
    }
   ],
   "source": [
    "#show test metrics\n",
    "metrics = workflow.evaluate_test_data(test_preds)\n",
    "print(metrics)"
   ]
  },
  {
   "cell_type": "markdown",
   "id": "5a8e5a38",
   "metadata": {},
   "source": [
    "## Retraining for live deployment\n",
    "The model is finally re-trained on the entire dataset, including the test data,\n",
    "before it is packaged into a pickled function for live predictions.\n",
    "\n",
    "The `workflow.get_live_features` function creates a version of the features based on the most up-to-date live data, in exactly the same way that the historical data features were created, ensuring the model is getting coherent live data."
   ]
  },
  {
   "cell_type": "code",
   "execution_count": null,
   "id": "470116dc-3269-4d1b-b3ee-fd24af532ebf",
   "metadata": {},
   "outputs": [
    {
     "name": "stdout",
     "output_type": "stream",
     "text": [
      "[LightGBM] [Info] Auto-choosing row-wise multi-threading, the overhead of testing was 0.073944 seconds.\n",
      "You can set `force_row_wise=true` to remove the overhead.\n",
      "And if memory is not enough, you can set `force_col_wise=true`.\n",
      "[LightGBM] [Info] Total Bins 36210\n",
      "[LightGBM] [Info] Number of data points in the train set: 815965, number of used features: 142\n",
      "[LightGBM] [Info] Start training from score 0.002022\n"
     ]
    }
   ],
   "source": [
    "model.fit(\n",
    "    pd.concat([X_train[feature_cols], X_val[feature_cols], X_test[feature_cols]]), \n",
    "    pd.concat([y_train, y_val, y_test])\n",
    ")\n",
    "\n",
    "# Final predict function\n",
    "def predict() -> pd.Series:\n",
    "    live_features = workflow.get_live_features(\"btcusd\")\n",
    "    preds = model.predict(live_features)\n",
    "    return pd.Series(preds, index=live_features.index)\n",
    "\n",
    "# Pickle the function\n",
    "with open(\"predict.pkl\", \"wb\") as f:\n",
    "    dill.dump(predict, f)"
   ]
  },
  {
   "cell_type": "markdown",
   "id": "67f9e44a",
   "metadata": {},
   "source": [
    "## Test Live Predictions\n",
    "\n",
    "This function simulates a live prediction scenario by loading the pickled function,\n",
    "calling it, and printing the prediction time and result."
   ]
  },
  {
   "cell_type": "code",
   "execution_count": null,
   "id": "8d4f431e-e3c2-4e29-b3dd-4a2434aa6865",
   "metadata": {},
   "outputs": [
    {
     "name": "stdout",
     "output_type": "stream",
     "text": [
      "Computing esoteric features...\n",
      "Esoteric features computation completed.\n",
      "predict time:  1.4289069175720215\n",
      "prediction:  2025-08-07 16:45:00+00:00    0.002003\n",
      "dtype: float64\n"
     ]
    }
   ],
   "source": [
    "# Load the pickled predict function\n",
    "with open(\"predict.pkl\", \"rb\") as f:\n",
    "    predict_fn = dill.load(f)\n",
    "\n",
    "# Call the function and get predictions\n",
    "tic = time.time()\n",
    "prediction = predict_fn()\n",
    "toc = time.time()\n",
    "\n",
    "print(\"predict time: \", (toc - tic) )\n",
    "print(\"prediction: \", prediction )\n"
   ]
  },
  {
   "cell_type": "code",
   "execution_count": null,
   "id": "83615b7c-34e6-4429-9034-92392efe8ba7",
   "metadata": {},
   "outputs": [],
   "source": []
  },
  {
   "cell_type": "code",
   "execution_count": null,
   "id": "94cedb2f",
   "metadata": {},
   "outputs": [],
   "source": [
    "\n"
   ]
  },
  {
   "cell_type": "code",
   "execution_count": null,
   "id": "0e171fe7",
   "metadata": {},
   "outputs": [],
   "source": [
    "\n"
   ]
  },
  {
   "cell_type": "code",
   "execution_count": null,
   "id": "37b3069d",
   "metadata": {},
   "outputs": [],
   "source": [
    "\n"
   ]
  },
  {
   "cell_type": "code",
   "execution_count": null,
   "id": "18c48c54",
   "metadata": {},
   "outputs": [],
   "source": [
    "\n"
   ]
  },
  {
   "cell_type": "code",
   "execution_count": null,
   "id": "8160f628",
   "metadata": {},
   "outputs": [],
   "source": [
    "\n"
   ]
  },
  {
   "cell_type": "code",
   "execution_count": null,
   "id": "14441f0e",
   "metadata": {},
   "outputs": [],
   "source": [
    "\n"
   ]
  }
 ],
 "metadata": {
  "kernelspec": {
   "display_name": "modelmaker",
   "language": "python",
   "name": "python3"
  },
  "language_info": {
   "codemirror_mode": {
    "name": "ipython",
    "version": 3
   },
   "file_extension": ".py",
   "mimetype": "text/x-python",
   "name": "python",
   "nbconvert_exporter": "python",
   "pygments_lexer": "ipython3",
   "version": "3.9.20"
  }
 },
 "nbformat": 4,
 "nbformat_minor": 5
}
